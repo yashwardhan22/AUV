{
 "cells": [
  {
   "cell_type": "code",
   "execution_count": 1,
   "metadata": {},
   "outputs": [
    {
     "name": "stderr",
     "output_type": "stream",
     "text": [
      "Using TensorFlow backend.\n"
     ]
    }
   ],
   "source": [
    "    from keras.preprocessing.image import ImageDataGenerator\n",
    "    from keras.models import Sequential\n",
    "    from keras.layers import Conv2D, MaxPooling2D\n",
    "    from keras.layers import Activation, Dropout, Flatten, Dense\n",
    "    from keras import backend as k\n",
    "    import numpy as np\n",
    "    from keras.preprocessing import image"
   ]
  },
  {
   "cell_type": "code",
   "execution_count": 2,
   "metadata": {},
   "outputs": [],
   "source": [
    "data_dir=\"Images\"\n",
    "img_size = 60\n",
    "\n",
    "train_data_param=ImageDataGenerator(\n",
    "    rescale=1. / 255,\n",
    "    shear_range=0.2,\n",
    "    zoom_range=0.2,\n",
    "    horizontal_flip=True,\n",
    "    validation_split=0.2)"
   ]
  },
  {
   "cell_type": "code",
   "execution_count": 3,
   "metadata": {},
   "outputs": [
    {
     "name": "stdout",
     "output_type": "stream",
     "text": [
      "Found 16508 images belonging to 120 classes.\n"
     ]
    }
   ],
   "source": [
    "training_data = train_data_param.flow_from_directory(\n",
    "    data_dir,\n",
    "    target_size=(img_size, img_size),\n",
    "    color_mode=\"grayscale\",\n",
    "    batch_size=32,\n",
    "    class_mode='categorical',\n",
    "    shuffle=True,\n",
    "    subset='training')"
   ]
  },
  {
   "cell_type": "code",
   "execution_count": 4,
   "metadata": {},
   "outputs": [
    {
     "name": "stdout",
     "output_type": "stream",
     "text": [
      "Found 4072 images belonging to 120 classes.\n"
     ]
    }
   ],
   "source": [
    "validation_data=train_data_param.flow_from_directory(\n",
    "    data_dir,\n",
    "    target_size=(img_size, img_size),\n",
    "    color_mode=\"grayscale\",\n",
    "    batch_size=32,\n",
    "    class_mode='categorical',\n",
    "    shuffle=True,\n",
    "    subset='validation')"
   ]
  },
  {
   "cell_type": "code",
   "execution_count": 5,
   "metadata": {},
   "outputs": [],
   "source": [
    "if k.image_data_format() =='channels_first':\n",
    "    input_shape = (1, img_size, img_size)\n",
    "else:\n",
    "    input_shape = (img_size, img_size, 1)"
   ]
  },
  {
   "cell_type": "code",
   "execution_count": 6,
   "metadata": {},
   "outputs": [
    {
     "name": "stdout",
     "output_type": "stream",
     "text": [
      "Model: \"sequential_1\"\n",
      "_________________________________________________________________\n",
      "Layer (type)                 Output Shape              Param #   \n",
      "=================================================================\n",
      "conv2d_1 (Conv2D)            (None, 60, 60, 32)        320       \n",
      "_________________________________________________________________\n",
      "max_pooling2d_1 (MaxPooling2 (None, 30, 30, 32)        0         \n",
      "_________________________________________________________________\n",
      "activation_1 (Activation)    (None, 30, 30, 32)        0         \n",
      "_________________________________________________________________\n",
      "conv2d_2 (Conv2D)            (None, 30, 30, 64)        18496     \n",
      "_________________________________________________________________\n",
      "max_pooling2d_2 (MaxPooling2 (None, 15, 15, 64)        0         \n",
      "_________________________________________________________________\n",
      "activation_2 (Activation)    (None, 15, 15, 64)        0         \n",
      "_________________________________________________________________\n",
      "conv2d_3 (Conv2D)            (None, 15, 15, 128)       73856     \n",
      "_________________________________________________________________\n",
      "max_pooling2d_3 (MaxPooling2 (None, 7, 7, 128)         0         \n",
      "_________________________________________________________________\n",
      "activation_3 (Activation)    (None, 7, 7, 128)         0         \n",
      "_________________________________________________________________\n",
      "dropout_1 (Dropout)          (None, 7, 7, 128)         0         \n",
      "_________________________________________________________________\n",
      "flatten_1 (Flatten)          (None, 6272)              0         \n",
      "_________________________________________________________________\n",
      "dense_1 (Dense)              (None, 500)               3136500   \n",
      "_________________________________________________________________\n",
      "activation_4 (Activation)    (None, 500)               0         \n",
      "_________________________________________________________________\n",
      "dropout_2 (Dropout)          (None, 500)               0         \n",
      "_________________________________________________________________\n",
      "dense_2 (Dense)              (None, 120)               60120     \n",
      "_________________________________________________________________\n",
      "activation_5 (Activation)    (None, 120)               0         \n",
      "=================================================================\n",
      "Total params: 3,289,292\n",
      "Trainable params: 3,289,292\n",
      "Non-trainable params: 0\n",
      "_________________________________________________________________\n"
     ]
    }
   ],
   "source": [
    "model = Sequential()\n",
    "\n",
    "model.add(Conv2D(32,(3,3), input_shape=input_shape, padding='same'))\n",
    "model.add(MaxPooling2D(pool_size=(2, 2)))\n",
    "model.add(Activation('relu'))\n",
    "#model.add(Dropout(0.4))\n",
    "#model.add(Conv2D(32,(3,3), input_shape=input_shape, padding='same'))\n",
    "#model.add(Activation('relu'))\n",
    "#model.add(Dropout(0.4))\n",
    "#model.add(MaxPooling2D(pool_size=(2, 2)))\n",
    "\n",
    "#model.add(Conv2D(64,(3,3)))\n",
    "#model.add(Activation('relu'))\n",
    "#model.add(Dropout(0.4))\n",
    "model.add(Conv2D(64,(3,3), input_shape=input_shape, padding='same'))\n",
    "model.add(MaxPooling2D(pool_size=(2, 2)))\n",
    "model.add(Activation('relu'))\n",
    "#model.add(Dropout(0.4))\n",
    "#model.add(MaxPooling2D(pool_size=(2, 2)))\n",
    "#model.add(Dropout(0.25))\n",
    "#model.add(Dense(64))\n",
    "\n",
    "model.add(Conv2D(128,(3,3), padding='same'))\n",
    "model.add(MaxPooling2D(pool_size=(2, 2)))\n",
    "model.add(Activation('relu'))\n",
    "#model.add(Conv2D(32,(3,3)))\n",
    "#model.add(Activation('relu'))\n",
    "#model.add(MaxPooling2D(pool_size=(2, 2)))\n",
    "model.add(Dropout(0.25))\n",
    "\n",
    "#model.add(Conv2D(64,(3,3)))\n",
    "#model.add(Activation('relu'))\n",
    "#model.add(Conv2D(64,(3,3)))\n",
    "#model.add(Activation('relu'))\n",
    "#model.add(MaxPooling2D(pool_size=(2, 2)))\n",
    "#model.add(Dropout(0.25))\n",
    "\n",
    "model.add(Flatten())\n",
    "model.add(Dense(500))\n",
    "model.add(Activation('relu'))\n",
    "model.add(Dropout(0.5))\n",
    "model.add(Dense(120))\n",
    "model.add(Activation('softmax'))\n",
    "\n",
    "\n",
    "\n",
    "#model.add(Conv2D(32, (3, 3), padding='same', input_shape=input_shape))\n",
    "#model.add(Activation('relu'))\n",
    "#model.add(Conv2D(32, (3, 3)))\n",
    "#model.add(Activation('relu'))\n",
    "#model.add(MaxPooling2D(pool_size=(2, 2)))\n",
    "#model.add(Dropout(0.25))\n",
    "\n",
    "#model.add(Conv2D(64, (3, 3), padding='same'))\n",
    "#model.add(Activation('relu'))\n",
    "#model.add(Conv2D(64, (3, 3)))\n",
    "#model.add(Activation('relu'))\n",
    "#model.add(MaxPooling2D(pool_size=(2, 2)))\n",
    "#model.add(Dropout(0.25))\n",
    "\n",
    "model.summary()"
   ]
  },
  {
   "cell_type": "code",
   "execution_count": 7,
   "metadata": {},
   "outputs": [],
   "source": [
    "    model.compile(loss='categorical_crossentropy',\n",
    "                  optimizer='adam',\n",
    "                  metrics=['accuracy'])"
   ]
  },
  {
   "cell_type": "code",
   "execution_count": 8,
   "metadata": {},
   "outputs": [
    {
     "name": "stdout",
     "output_type": "stream",
     "text": [
      "Epoch 1/80\n",
      "1000/1000 [==============================] - 196s 196ms/step - loss: 4.6303 - accuracy: 0.0247 - val_loss: 4.3749 - val_accuracy: 0.0381\n",
      "Epoch 2/80\n",
      "1000/1000 [==============================] - 199s 199ms/step - loss: 4.3756 - accuracy: 0.0477 - val_loss: 4.3720 - val_accuracy: 0.0508\n",
      "Epoch 3/80\n",
      "1000/1000 [==============================] - 198s 198ms/step - loss: 4.2438 - accuracy: 0.0650 - val_loss: 4.1473 - val_accuracy: 0.0645\n",
      "Epoch 4/80\n",
      "1000/1000 [==============================] - 200s 200ms/step - loss: 4.1266 - accuracy: 0.0814 - val_loss: 4.6298 - val_accuracy: 0.0830\n",
      "Epoch 5/80\n",
      "1000/1000 [==============================] - 199s 199ms/step - loss: 4.0292 - accuracy: 0.0936 - val_loss: 4.1100 - val_accuracy: 0.0830\n",
      "Epoch 6/80\n",
      "1000/1000 [==============================] - 203s 203ms/step - loss: 3.9343 - accuracy: 0.1078 - val_loss: 3.9019 - val_accuracy: 0.1084\n",
      "Epoch 7/80\n",
      "1000/1000 [==============================] - 199s 199ms/step - loss: 3.8534 - accuracy: 0.1192 - val_loss: 4.1257 - val_accuracy: 0.1113\n",
      "Epoch 8/80\n",
      "1000/1000 [==============================] - 200s 200ms/step - loss: 3.7732 - accuracy: 0.1310 - val_loss: 3.6792 - val_accuracy: 0.1110\n",
      "Epoch 9/80\n",
      "1000/1000 [==============================] - 201s 201ms/step - loss: 3.7087 - accuracy: 0.1442 - val_loss: 3.7968 - val_accuracy: 0.1172\n",
      "Epoch 10/80\n",
      "1000/1000 [==============================] - 200s 200ms/step - loss: 3.6422 - accuracy: 0.1473 - val_loss: 4.0063 - val_accuracy: 0.1230\n",
      "Epoch 11/80\n",
      "1000/1000 [==============================] - 200s 200ms/step - loss: 3.5750 - accuracy: 0.1644 - val_loss: 3.9951 - val_accuracy: 0.1299\n",
      "Epoch 12/80\n",
      "1000/1000 [==============================] - 200s 200ms/step - loss: 3.5130 - accuracy: 0.1740 - val_loss: 3.9460 - val_accuracy: 0.1100\n",
      "Epoch 13/80\n",
      "1000/1000 [==============================] - 200s 200ms/step - loss: 3.4702 - accuracy: 0.1827 - val_loss: 4.0380 - val_accuracy: 0.1240\n",
      "Epoch 14/80\n",
      "1000/1000 [==============================] - 200s 200ms/step - loss: 3.4034 - accuracy: 0.1938 - val_loss: 4.3823 - val_accuracy: 0.1104\n",
      "Epoch 15/80\n",
      "1000/1000 [==============================] - 200s 200ms/step - loss: 3.3496 - accuracy: 0.2014 - val_loss: 4.2645 - val_accuracy: 0.1250\n",
      "Epoch 16/80\n",
      "1000/1000 [==============================] - 202s 202ms/step - loss: 3.3037 - accuracy: 0.2116 - val_loss: 4.3203 - val_accuracy: 0.1460\n",
      "Epoch 17/80\n",
      "1000/1000 [==============================] - 201s 201ms/step - loss: 3.2462 - accuracy: 0.2189 - val_loss: 4.3906 - val_accuracy: 0.1396\n",
      "Epoch 18/80\n",
      "1000/1000 [==============================] - 200s 200ms/step - loss: 3.1942 - accuracy: 0.2270 - val_loss: 4.0866 - val_accuracy: 0.1230\n",
      "Epoch 19/80\n",
      "1000/1000 [==============================] - 200s 200ms/step - loss: 3.1509 - accuracy: 0.2385 - val_loss: 4.0815 - val_accuracy: 0.1279\n",
      "Epoch 20/80\n",
      "1000/1000 [==============================] - 199s 199ms/step - loss: 3.1188 - accuracy: 0.2401 - val_loss: 4.7685 - val_accuracy: 0.1140\n",
      "Epoch 21/80\n",
      "1000/1000 [==============================] - 199s 199ms/step - loss: 3.0672 - accuracy: 0.2478 - val_loss: 4.0606 - val_accuracy: 0.1387\n",
      "Epoch 22/80\n",
      "1000/1000 [==============================] - 201s 201ms/step - loss: 3.0336 - accuracy: 0.2576 - val_loss: 4.1779 - val_accuracy: 0.1299\n",
      "Epoch 23/80\n",
      "1000/1000 [==============================] - 202s 202ms/step - loss: 2.9939 - accuracy: 0.2632 - val_loss: 3.9501 - val_accuracy: 0.1553\n",
      "Epoch 24/80\n",
      "1000/1000 [==============================] - 200s 200ms/step - loss: 2.9564 - accuracy: 0.2733 - val_loss: 4.1287 - val_accuracy: 0.1360\n",
      "Epoch 25/80\n",
      "1000/1000 [==============================] - 201s 201ms/step - loss: 2.9215 - accuracy: 0.2756 - val_loss: 4.0753 - val_accuracy: 0.1318\n",
      "Epoch 26/80\n",
      "1000/1000 [==============================] - 200s 200ms/step - loss: 2.8878 - accuracy: 0.2838 - val_loss: 3.4302 - val_accuracy: 0.1318\n",
      "Epoch 27/80\n",
      "1000/1000 [==============================] - 200s 200ms/step - loss: 2.8450 - accuracy: 0.2909 - val_loss: 4.3547 - val_accuracy: 0.1328\n",
      "Epoch 28/80\n",
      "1000/1000 [==============================] - 201s 201ms/step - loss: 2.8118 - accuracy: 0.2989 - val_loss: 4.4395 - val_accuracy: 0.1530\n",
      "Epoch 29/80\n",
      "1000/1000 [==============================] - 200s 200ms/step - loss: 2.7959 - accuracy: 0.3039 - val_loss: 3.3687 - val_accuracy: 0.1533\n",
      "Epoch 30/80\n",
      "1000/1000 [==============================] - 201s 201ms/step - loss: 2.7751 - accuracy: 0.3085 - val_loss: 3.5780 - val_accuracy: 0.1338\n",
      "Epoch 31/80\n",
      "1000/1000 [==============================] - 204s 204ms/step - loss: 2.7278 - accuracy: 0.3160 - val_loss: 3.9745 - val_accuracy: 0.1318\n",
      "Epoch 32/80\n",
      "1000/1000 [==============================] - 200s 200ms/step - loss: 2.7064 - accuracy: 0.3193 - val_loss: 4.4893 - val_accuracy: 0.1230\n",
      "Epoch 33/80\n",
      "1000/1000 [==============================] - 199s 199ms/step - loss: 2.6741 - accuracy: 0.3283 - val_loss: 3.6205 - val_accuracy: 0.1504\n",
      "Epoch 34/80\n",
      "1000/1000 [==============================] - 198s 198ms/step - loss: 2.6403 - accuracy: 0.3313 - val_loss: 4.4940 - val_accuracy: 0.1494\n",
      "Epoch 35/80\n",
      "1000/1000 [==============================] - 195s 195ms/step - loss: 2.6373 - accuracy: 0.3343 - val_loss: 3.8835 - val_accuracy: 0.1250\n",
      "Epoch 36/80\n",
      "1000/1000 [==============================] - 196s 196ms/step - loss: 2.6026 - accuracy: 0.3405 - val_loss: 3.6335 - val_accuracy: 0.1520\n",
      "Epoch 37/80\n",
      "1000/1000 [==============================] - 196s 196ms/step - loss: 2.5864 - accuracy: 0.3440 - val_loss: 3.9383 - val_accuracy: 0.1367\n",
      "Epoch 38/80\n",
      "1000/1000 [==============================] - 196s 196ms/step - loss: 2.5711 - accuracy: 0.3481 - val_loss: 3.9364 - val_accuracy: 0.1436\n",
      "Epoch 39/80\n",
      "1000/1000 [==============================] - 199s 199ms/step - loss: 2.5399 - accuracy: 0.3519 - val_loss: 4.5990 - val_accuracy: 0.1494\n",
      "Epoch 40/80\n",
      "1000/1000 [==============================] - 201s 201ms/step - loss: 2.5095 - accuracy: 0.3592 - val_loss: 3.3549 - val_accuracy: 0.1340\n",
      "Epoch 41/80\n",
      "1000/1000 [==============================] - 200s 200ms/step - loss: 2.5102 - accuracy: 0.3606 - val_loss: 3.5463 - val_accuracy: 0.1260\n",
      "Epoch 42/80\n",
      "1000/1000 [==============================] - 196s 196ms/step - loss: 2.4682 - accuracy: 0.3672 - val_loss: 3.7521 - val_accuracy: 0.1523\n",
      "Epoch 43/80\n",
      "1000/1000 [==============================] - 197s 197ms/step - loss: 2.4684 - accuracy: 0.3637 - val_loss: 3.9740 - val_accuracy: 0.1299\n",
      "Epoch 44/80\n",
      "1000/1000 [==============================] - 196s 196ms/step - loss: 2.4344 - accuracy: 0.3724 - val_loss: 4.0157 - val_accuracy: 0.1530\n",
      "Epoch 45/80\n",
      "1000/1000 [==============================] - 196s 196ms/step - loss: 2.4312 - accuracy: 0.3775 - val_loss: 3.7375 - val_accuracy: 0.1367\n",
      "Epoch 46/80\n",
      "1000/1000 [==============================] - 196s 196ms/step - loss: 2.4112 - accuracy: 0.3819 - val_loss: 4.3384 - val_accuracy: 0.1387\n",
      "Epoch 47/80\n",
      "1000/1000 [==============================] - 201s 201ms/step - loss: 2.4043 - accuracy: 0.3849 - val_loss: 4.0859 - val_accuracy: 0.1455\n",
      "Epoch 48/80\n",
      "1000/1000 [==============================] - 200s 200ms/step - loss: 2.3825 - accuracy: 0.3850 - val_loss: 4.6691 - val_accuracy: 0.1470\n",
      "Epoch 49/80\n",
      "1000/1000 [==============================] - 196s 196ms/step - loss: 2.3722 - accuracy: 0.3878 - val_loss: 4.3660 - val_accuracy: 0.1436\n",
      "Epoch 50/80\n",
      "1000/1000 [==============================] - 196s 196ms/step - loss: 2.3331 - accuracy: 0.4000 - val_loss: 4.1574 - val_accuracy: 0.1270\n",
      "Epoch 51/80\n",
      "1000/1000 [==============================] - 196s 196ms/step - loss: 2.3241 - accuracy: 0.3988 - val_loss: 3.5754 - val_accuracy: 0.1348\n",
      "Epoch 52/80\n",
      "1000/1000 [==============================] - 196s 196ms/step - loss: 2.3250 - accuracy: 0.3983 - val_loss: 3.8176 - val_accuracy: 0.1420\n",
      "Epoch 53/80\n",
      "1000/1000 [==============================] - 196s 196ms/step - loss: 2.2937 - accuracy: 0.4050 - val_loss: 4.1755 - val_accuracy: 0.1309\n",
      "Epoch 54/80\n",
      "1000/1000 [==============================] - 196s 196ms/step - loss: 2.2965 - accuracy: 0.3993 - val_loss: 3.8377 - val_accuracy: 0.1455\n",
      "Epoch 55/80\n",
      "1000/1000 [==============================] - 196s 196ms/step - loss: 2.2543 - accuracy: 0.4182 - val_loss: 4.1116 - val_accuracy: 0.1523\n",
      "Epoch 56/80\n"
     ]
    },
    {
     "name": "stdout",
     "output_type": "stream",
     "text": [
      "1000/1000 [==============================] - 195s 195ms/step - loss: 2.2639 - accuracy: 0.4088 - val_loss: 4.8242 - val_accuracy: 0.1610\n",
      "Epoch 57/80\n",
      "1000/1000 [==============================] - 196s 196ms/step - loss: 2.2674 - accuracy: 0.4103 - val_loss: 3.8532 - val_accuracy: 0.1299\n",
      "Epoch 58/80\n",
      "1000/1000 [==============================] - 195s 195ms/step - loss: 2.2368 - accuracy: 0.4174 - val_loss: 3.9637 - val_accuracy: 0.1572\n",
      "Epoch 59/80\n",
      "1000/1000 [==============================] - 200s 200ms/step - loss: 2.2196 - accuracy: 0.4205 - val_loss: 4.6364 - val_accuracy: 0.1357\n",
      "Epoch 60/80\n",
      "1000/1000 [==============================] - 200s 200ms/step - loss: 2.2151 - accuracy: 0.4205 - val_loss: 5.1354 - val_accuracy: 0.1420\n",
      "Epoch 61/80\n",
      "1000/1000 [==============================] - 196s 196ms/step - loss: 2.2057 - accuracy: 0.4255 - val_loss: 4.3683 - val_accuracy: 0.1309\n",
      "Epoch 62/80\n",
      "1000/1000 [==============================] - 196s 196ms/step - loss: 2.1936 - accuracy: 0.4259 - val_loss: 3.7787 - val_accuracy: 0.1592\n",
      "Epoch 63/80\n",
      "1000/1000 [==============================] - 196s 196ms/step - loss: 2.1790 - accuracy: 0.4279 - val_loss: 3.6760 - val_accuracy: 0.1289\n",
      "Epoch 64/80\n",
      "1000/1000 [==============================] - 196s 196ms/step - loss: 2.1796 - accuracy: 0.4292 - val_loss: 4.0307 - val_accuracy: 0.1360\n",
      "Epoch 65/80\n",
      "1000/1000 [==============================] - 196s 196ms/step - loss: 2.1527 - accuracy: 0.4365 - val_loss: 4.1172 - val_accuracy: 0.1494\n",
      "Epoch 66/80\n",
      "1000/1000 [==============================] - 196s 196ms/step - loss: 2.1373 - accuracy: 0.4388 - val_loss: 3.9476 - val_accuracy: 0.1289\n",
      "Epoch 67/80\n",
      "1000/1000 [==============================] - 196s 196ms/step - loss: 2.1411 - accuracy: 0.4375 - val_loss: 4.4354 - val_accuracy: 0.1377\n",
      "Epoch 68/80\n",
      "1000/1000 [==============================] - 196s 196ms/step - loss: 2.1325 - accuracy: 0.4398 - val_loss: 5.0676 - val_accuracy: 0.1390\n",
      "Epoch 69/80\n",
      "1000/1000 [==============================] - 196s 196ms/step - loss: 2.1074 - accuracy: 0.4433 - val_loss: 4.7950 - val_accuracy: 0.1455\n",
      "Epoch 70/80\n",
      "1000/1000 [==============================] - 195s 195ms/step - loss: 2.1138 - accuracy: 0.4438 - val_loss: 4.7151 - val_accuracy: 0.1318\n",
      "Epoch 71/80\n",
      "1000/1000 [==============================] - 196s 196ms/step - loss: 2.1010 - accuracy: 0.4472 - val_loss: 4.4004 - val_accuracy: 0.1299\n",
      "Epoch 72/80\n",
      "1000/1000 [==============================] - 196s 196ms/step - loss: 2.0822 - accuracy: 0.4506 - val_loss: 4.3093 - val_accuracy: 0.1610\n",
      "Epoch 73/80\n",
      "1000/1000 [==============================] - 196s 196ms/step - loss: 2.0756 - accuracy: 0.4530 - val_loss: 4.3407 - val_accuracy: 0.1201\n",
      "Epoch 74/80\n",
      "1000/1000 [==============================] - 196s 196ms/step - loss: 2.1038 - accuracy: 0.4452 - val_loss: 4.8287 - val_accuracy: 0.1387\n",
      "Epoch 75/80\n",
      "1000/1000 [==============================] - 196s 196ms/step - loss: 2.0673 - accuracy: 0.4526 - val_loss: 4.4116 - val_accuracy: 0.1426\n",
      "Epoch 76/80\n",
      "1000/1000 [==============================] - 196s 196ms/step - loss: 2.0621 - accuracy: 0.4561 - val_loss: 4.0929 - val_accuracy: 0.1350\n",
      "Epoch 77/80\n",
      "1000/1000 [==============================] - 196s 196ms/step - loss: 2.0451 - accuracy: 0.4629 - val_loss: 4.3735 - val_accuracy: 0.1396\n",
      "Epoch 78/80\n",
      "1000/1000 [==============================] - 196s 196ms/step - loss: 2.0353 - accuracy: 0.4608 - val_loss: 5.2444 - val_accuracy: 0.1357\n",
      "Epoch 79/80\n",
      "1000/1000 [==============================] - 196s 196ms/step - loss: 2.0433 - accuracy: 0.4582 - val_loss: 4.3191 - val_accuracy: 0.1240\n",
      "Epoch 80/80\n",
      "1000/1000 [==============================] - 196s 196ms/step - loss: 2.0200 - accuracy: 0.4662 - val_loss: 5.3159 - val_accuracy: 0.1320\n"
     ]
    }
   ],
   "source": [
    "history=model.fit_generator(\n",
    "            training_data,\n",
    "            steps_per_epoch=1000,\n",
    "            epochs=80,\n",
    "            validation_data=validation_data,\n",
    "            validation_steps=32,\n",
    "            shuffle=True)\n",
    "\n",
    "model.save_weights('second_try.h5')"
   ]
  },
  {
   "cell_type": "code",
   "execution_count": 9,
   "metadata": {},
   "outputs": [],
   "source": [
    "img_pred = image.load_img('Images/n02116738-African_hunting_dog/n02116738_500.jpg', color_mode = \"grayscale\", target_size = (img_size, img_size))\n",
    "img_pred = image.img_to_array(img_pred)\n",
    "img_pred = np.expand_dims(img_pred, axis = 0)"
   ]
  },
  {
   "cell_type": "code",
   "execution_count": 10,
   "metadata": {
    "scrolled": true
   },
   "outputs": [
    {
     "name": "stdout",
     "output_type": "stream",
     "text": [
      "[[0.0000000e+00 0.0000000e+00 0.0000000e+00 0.0000000e+00 0.0000000e+00\n",
      "  0.0000000e+00 0.0000000e+00 0.0000000e+00 0.0000000e+00 0.0000000e+00\n",
      "  0.0000000e+00 0.0000000e+00 0.0000000e+00 0.0000000e+00 0.0000000e+00\n",
      "  0.0000000e+00 0.0000000e+00 0.0000000e+00 0.0000000e+00 0.0000000e+00\n",
      "  0.0000000e+00 0.0000000e+00 0.0000000e+00 0.0000000e+00 0.0000000e+00\n",
      "  0.0000000e+00 0.0000000e+00 0.0000000e+00 1.0000000e+00 4.3889203e-24\n",
      "  0.0000000e+00 0.0000000e+00 0.0000000e+00 0.0000000e+00 0.0000000e+00\n",
      "  0.0000000e+00 0.0000000e+00 0.0000000e+00 0.0000000e+00 0.0000000e+00\n",
      "  0.0000000e+00 0.0000000e+00 0.0000000e+00 0.0000000e+00 5.9714305e-09\n",
      "  0.0000000e+00 0.0000000e+00 0.0000000e+00 0.0000000e+00 0.0000000e+00\n",
      "  0.0000000e+00 0.0000000e+00 0.0000000e+00 0.0000000e+00 0.0000000e+00\n",
      "  0.0000000e+00 0.0000000e+00 0.0000000e+00 0.0000000e+00 0.0000000e+00\n",
      "  0.0000000e+00 0.0000000e+00 0.0000000e+00 0.0000000e+00 0.0000000e+00\n",
      "  0.0000000e+00 0.0000000e+00 0.0000000e+00 0.0000000e+00 0.0000000e+00\n",
      "  0.0000000e+00 0.0000000e+00 0.0000000e+00 0.0000000e+00 0.0000000e+00\n",
      "  0.0000000e+00 0.0000000e+00 0.0000000e+00 0.0000000e+00 0.0000000e+00\n",
      "  0.0000000e+00 2.6122648e-13 0.0000000e+00 0.0000000e+00 0.0000000e+00\n",
      "  0.0000000e+00 0.0000000e+00 0.0000000e+00 0.0000000e+00 0.0000000e+00\n",
      "  0.0000000e+00 0.0000000e+00 0.0000000e+00 0.0000000e+00 0.0000000e+00\n",
      "  0.0000000e+00 0.0000000e+00 0.0000000e+00 0.0000000e+00 0.0000000e+00\n",
      "  0.0000000e+00 0.0000000e+00 0.0000000e+00 0.0000000e+00 0.0000000e+00\n",
      "  0.0000000e+00 0.0000000e+00 0.0000000e+00 0.0000000e+00 0.0000000e+00\n",
      "  0.0000000e+00 0.0000000e+00 0.0000000e+00 0.0000000e+00 0.0000000e+00\n",
      "  0.0000000e+00 0.0000000e+00 0.0000000e+00 0.0000000e+00 0.0000000e+00]]\n"
     ]
    }
   ],
   "source": [
    "rslt = model.predict(img_pred)\n",
    "print(rslt)"
   ]
  },
  {
   "cell_type": "code",
   "execution_count": 12,
   "metadata": {},
   "outputs": [
    {
     "data": {
      "image/png": "[encoded data removed]",
      "text/plain": [
       "<Figure size 432x288 with 1 Axes>"
      ]
     },
     "metadata": {
      "needs_background": "light"
     },
     "output_type": "display_data"
    },
    {
     "data": {
      "image/png": "[encoded data removed]",
      "text/plain": [
       "<Figure size 432x288 with 1 Axes>"
      ]
     },
     "metadata": {
      "needs_background": "light"
     },
     "output_type": "display_data"
    }
   ],
   "source": [
    "import matplotlib. pyplot as plt\n",
    "\n",
    "plt.plot(history.history['accuracy'])\n",
    "plt.plot(history.history['val_accuracy'])\n",
    "plt.title('model accuracy')\n",
    "plt.ylabel('accuracy')\n",
    "plt.xlabel('epoch')\n",
    "plt.legend(['train', 'test'], loc='upper left')\n",
    "plt.show()\n",
    "\n",
    "plt.plot(history.history['loss'])\n",
    "plt.plot(history.history['val_loss'])\n",
    "plt.title('model loss')\n",
    "plt.ylabel('loss')\n",
    "plt.xlabel('epoch')\n",
    "plt.legend(['train', 'test'], loc='upper left')\n",
    "plt.show()"
   ]
  },
  {
   "cell_type": "code",
   "execution_count": null,
   "metadata": {},
   "outputs": [],
   "source": []
  }
 ],
 "metadata": {
  "kernelspec": {
   "display_name": "Python 3",
   "language": "python",
   "name": "python3"
  },
  "language_info": {
   "codemirror_mode": {
    "name": "ipython",
    "version": 3
   },
   "file_extension": ".py",
   "mimetype": "text/x-python",
   "name": "python",
   "nbconvert_exporter": "python",
   "pygments_lexer": "ipython3",
   "version": "3.7.3"
  }
 },
 "nbformat": 4,
 "nbformat_minor": 2
}
