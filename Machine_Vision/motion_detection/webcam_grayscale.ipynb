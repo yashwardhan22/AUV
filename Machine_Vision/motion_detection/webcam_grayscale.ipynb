{
 "cells": [
  {
   "cell_type": "code",
   "execution_count": 19,
   "metadata": {},
   "outputs": [],
   "source": [
    "import numpy as np\n",
    "import cv2\n",
    "cap0 = cv2.VideoCapture(0)\n",
    "cap1 = cv2.VideoCapture(2)\n",
    "cap0.set(cv2.CAP_PROP_FRAME_WIDTH,400)\n",
    "cap0.set(cv2.CAP_PROP_FRAME_HEIGHT,400)\n",
    "cap1.set(cv2.CAP_PROP_FRAME_WIDTH,400)\n",
    "cap1.set(cv2.CAP_PROP_FRAME_HEIGHT,400)\n",
    "\n",
    "while(True):\n",
    "    # Capture frame-by-frame\n",
    "    ret0, frame0 = cap0.read()\n",
    "    ret1, frame1 = cap1.read()\n",
    "    \n",
    "    # Our operations on the frame come here#\n",
    "    gray0 = cv2.cvtColor(frame0, cv2.COLOR_BGR2GRAY)\n",
    "    gray1 = cv2.cvtColor(frame1, cv2.COLOR_BGR2GRAY)\n",
    "\n",
    "    # Display the resulting frame\n",
    "    if(ret0):\n",
    "        cv2.imshow('Cam0',frame0)\n",
    "        cv2.imshow('Gray0',gray0)\n",
    "    if(ret1):\n",
    "        cv2.imshow('Cam1',frame1)\n",
    "        cv2.imshow('Gray1',gray1)\n",
    "\n",
    "    if cv2.waitKey(1) & 0xFF == ord('q'):\n",
    "        break\n",
    "\n",
    "# When everything done, release the capture\n",
    "cap0.release()\n",
    "cap1.release()\n",
    "\n",
    "cv2.destroyAllWindows()"
   ]
  },
  {
   "cell_type": "code",
   "execution_count": null,
   "metadata": {},
   "outputs": [],
   "source": []
  },
  {
   "cell_type": "code",
   "execution_count": null,
   "metadata": {},
   "outputs": [],
   "source": []
  }
 ],
 "metadata": {
  "kernelspec": {
   "display_name": "Python 3",
   "language": "python",
   "name": "python3"
  },
  "language_info": {
   "codemirror_mode": {
    "name": "ipython",
    "version": 3
   },
   "file_extension": ".py",
   "mimetype": "text/x-python",
   "name": "python",
   "nbconvert_exporter": "python",
   "pygments_lexer": "ipython3",
   "version": "3.7.3"
  }
 },
 "nbformat": 4,
 "nbformat_minor": 2
}
