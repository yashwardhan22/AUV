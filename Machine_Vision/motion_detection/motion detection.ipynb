{
 "cells": [
  {
   "cell_type": "code",
   "execution_count": 5,
   "metadata": {},
   "outputs": [],
   "source": [
    "import numpy as np\n",
    "import cv2\n",
    "import imutils\n",
    "import time\n",
    "\n",
    "cap = cv2.VideoCapture(0)\n",
    "firstFrame = None\n",
    "\n",
    "while(True):\n",
    "    ret, frame = cap.read()\n",
    "    text = \"Unoccupied\"\n",
    "    \n",
    "    gray   = cv2.cvtColor(frame, cv2.COLOR_BGR2GRAY)\n",
    "    blur   = cv2.GaussianBlur(gray , (27, 27), 0)\n",
    "    if firstFrame is None:\n",
    "        firstFrame = gray\n",
    "        continue\n",
    "        \n",
    "#--------------------------------------------------\n",
    "    now = time.localtime(time.time())\n",
    "    if now[5]%8 == 0:\n",
    "        firstFrame = gray\n",
    "        continue \n",
    "#--------------------------------------------------\n",
    "\n",
    "\n",
    "    frameDelta = cv2.absdiff(firstFrame, gray)\n",
    "    thresh = cv2.threshold(frameDelta, 40, 250, cv2.THRESH_BINARY)[1]\n",
    "    thresh = cv2.dilate(thresh, None, iterations=3)\n",
    "    cnts = cv2.findContours(thresh.copy(), cv2.RETR_EXTERNAL, cv2.CHAIN_APPROX_SIMPLE)\n",
    "    cnts = imutils.grab_contours(cnts)\n",
    "    \n",
    "    for c in cnts:\n",
    "        if cv2.contourArea(c) < 2500:\n",
    "            continue     \n",
    "        (x, y, w, h) = cv2.boundingRect(c)\n",
    "        cv2.rectangle(frame, (x, y), (x + w, y + h), (0, 255, 0), 2)\n",
    "        text = \"Occupied\"\n",
    "\n",
    "\n",
    "    if text == \"Occupied\":\n",
    "        txt_color = (0, 0, 255)\n",
    "    else:\n",
    "        txt_color = (255, 0, 0)\n",
    "    cv2.putText(frame, \"Room Status: {}\".format(text), (10, 20), cv2.FONT_HERSHEY_SIMPLEX, 1, txt_color, 2)\n",
    "    \n",
    "    if(ret):\n",
    "        cv2.imshow('Cam',frame)\n",
    "        #cv2.imshow('Gray',gray)\n",
    "        #cv2.imshow('Blur',blur)\n",
    "        cv2.imshow(\"Frame Delta\", frameDelta)\n",
    "        cv2.imshow('Thresh',thresh)\n",
    "\n",
    "    if cv2.waitKey(1) & 0xFF == ord('q'):\n",
    "        break\n",
    "          \n",
    "cap.release()\n",
    "cv2.destroyAllWindows()"
   ]
  },
  {
   "cell_type": "code",
   "execution_count": null,
   "metadata": {},
   "outputs": [],
   "source": []
  }
 ],
 "metadata": {
  "kernelspec": {
   "display_name": "Python 3",
   "language": "python",
   "name": "python3"
  },
  "language_info": {
   "codemirror_mode": {
    "name": "ipython",
    "version": 3
   },
   "file_extension": ".py",
   "mimetype": "text/x-python",
   "name": "python",
   "nbconvert_exporter": "python",
   "pygments_lexer": "ipython3",
   "version": "3.7.3"
  }
 },
 "nbformat": 4,
 "nbformat_minor": 2
}
